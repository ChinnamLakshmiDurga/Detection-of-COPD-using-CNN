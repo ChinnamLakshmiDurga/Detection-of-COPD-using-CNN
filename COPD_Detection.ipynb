{
 "cells": [
  {
   "cell_type": "markdown",
   "id": "aed184d7",
   "metadata": {},
   "source": [
    "# Import libraries"
   ]
  },
  {
   "cell_type": "code",
   "execution_count": 26,
   "id": "15370e31",
   "metadata": {},
   "outputs": [],
   "source": [
    "import os\n",
    "import numpy as np \n",
    "import pandas as pd\n",
    "import librosa as lb\n",
    "import librosa.display\n",
    "import soundfile as sf\n",
    "import tensorflow as tf\n",
    "import IPython.display as ipd\n",
    "import matplotlib.pyplot as plt\n",
    "from scipy.io import wavfile as wav\n",
    "\n",
    " \n",
    "import seaborn as sns\n",
    "from tensorflow import keras\n",
    "from keras import backend as K\n",
    "from scipy.io.wavfile import read\n",
    "from keras.layers import Activation\n",
    "from keras.models import Sequential\n",
    "from tensorflow.keras.layers import Conv2D\n",
    "from sklearn.model_selection import train_test_split\n",
    "\n",
    "from keras.utils import to_categorical\n",
    "from tensorflow.keras.models import Sequential\n",
    "from sklearn.preprocessing import LabelEncoder\n",
    "from sklearn.model_selection import StratifiedKFold\n",
    "from sklearn.model_selection import train_test_split\n",
    "from tensorflow.keras.callbacks import ModelCheckpoint\n",
    "from sklearn.metrics import confusion_matrix, classification_report, roc_curve, auc\n",
    "from tensorflow.keras.layers import Dense, Dropout, Conv2D, MaxPooling2D, GlobalAveragePooling2D\n",
    "\n",
    "\n",
    "import sklearn\n",
    "import sklearn.metrics as metrics\n",
    "from sklearn.metrics import confusion_matrixfrom sklearn.metrics import plot_confusion_matrix"
   ]
  },
  {
   "cell_type": "markdown",
   "id": "f91dcc84",
   "metadata": {},
   "source": [
    "## EDA"
   ]
  },
  {
   "cell_type": "code",
   "execution_count": 3,
   "id": "4f90afd8",
   "metadata": {},
   "outputs": [
    {
     "data": {
      "text/html": [
       "<div>\n",
       "<style scoped>\n",
       "    .dataframe tbody tr th:only-of-type {\n",
       "        vertical-align: middle;\n",
       "    }\n",
       "\n",
       "    .dataframe tbody tr th {\n",
       "        vertical-align: top;\n",
       "    }\n",
       "\n",
       "    .dataframe thead th {\n",
       "        text-align: right;\n",
       "    }\n",
       "</style>\n",
       "<table border=\"1\" class=\"dataframe\">\n",
       "  <thead>\n",
       "    <tr style=\"text-align: right;\">\n",
       "      <th></th>\n",
       "      <th>patient_id</th>\n",
       "      <th>disease</th>\n",
       "    </tr>\n",
       "  </thead>\n",
       "  <tbody>\n",
       "    <tr>\n",
       "      <th>0</th>\n",
       "      <td>101</td>\n",
       "      <td>URTI</td>\n",
       "    </tr>\n",
       "    <tr>\n",
       "      <th>1</th>\n",
       "      <td>102</td>\n",
       "      <td>Healthy</td>\n",
       "    </tr>\n",
       "    <tr>\n",
       "      <th>2</th>\n",
       "      <td>103</td>\n",
       "      <td>Asthma</td>\n",
       "    </tr>\n",
       "    <tr>\n",
       "      <th>3</th>\n",
       "      <td>104</td>\n",
       "      <td>COPD</td>\n",
       "    </tr>\n",
       "    <tr>\n",
       "      <th>4</th>\n",
       "      <td>105</td>\n",
       "      <td>URTI</td>\n",
       "    </tr>\n",
       "    <tr>\n",
       "      <th>...</th>\n",
       "      <td>...</td>\n",
       "      <td>...</td>\n",
       "    </tr>\n",
       "    <tr>\n",
       "      <th>121</th>\n",
       "      <td>222</td>\n",
       "      <td>COPD</td>\n",
       "    </tr>\n",
       "    <tr>\n",
       "      <th>122</th>\n",
       "      <td>223</td>\n",
       "      <td>COPD</td>\n",
       "    </tr>\n",
       "    <tr>\n",
       "      <th>123</th>\n",
       "      <td>224</td>\n",
       "      <td>Healthy</td>\n",
       "    </tr>\n",
       "    <tr>\n",
       "      <th>124</th>\n",
       "      <td>225</td>\n",
       "      <td>Healthy</td>\n",
       "    </tr>\n",
       "    <tr>\n",
       "      <th>125</th>\n",
       "      <td>226</td>\n",
       "      <td>Pneumonia</td>\n",
       "    </tr>\n",
       "  </tbody>\n",
       "</table>\n",
       "<p>126 rows × 2 columns</p>\n",
       "</div>"
      ],
      "text/plain": [
       "     patient_id    disease\n",
       "0           101       URTI\n",
       "1           102    Healthy\n",
       "2           103     Asthma\n",
       "3           104       COPD\n",
       "4           105       URTI\n",
       "..          ...        ...\n",
       "121         222       COPD\n",
       "122         223       COPD\n",
       "123         224    Healthy\n",
       "124         225    Healthy\n",
       "125         226  Pneumonia\n",
       "\n",
       "[126 rows x 2 columns]"
      ]
     },
     "execution_count": 3,
     "metadata": {},
     "output_type": "execute_result"
    }
   ],
   "source": [
    "patient_data=pd.read_csv(\"patient_diagnosis.csv\",names=['patient_id','disease'])\n",
    "patient_data"
   ]
  },
  {
   "cell_type": "code",
   "execution_count": 4,
   "id": "08304b61",
   "metadata": {},
   "outputs": [
    {
     "data": {
      "text/html": [
       "<div>\n",
       "<style scoped>\n",
       "    .dataframe tbody tr th:only-of-type {\n",
       "        vertical-align: middle;\n",
       "    }\n",
       "\n",
       "    .dataframe tbody tr th {\n",
       "        vertical-align: top;\n",
       "    }\n",
       "\n",
       "    .dataframe thead th {\n",
       "        text-align: right;\n",
       "    }\n",
       "</style>\n",
       "<table border=\"1\" class=\"dataframe\">\n",
       "  <thead>\n",
       "    <tr style=\"text-align: right;\">\n",
       "      <th></th>\n",
       "      <th>0.036</th>\n",
       "      <th>0.579</th>\n",
       "      <th>0</th>\n",
       "      <th>0.1</th>\n",
       "    </tr>\n",
       "  </thead>\n",
       "  <tbody>\n",
       "    <tr>\n",
       "      <th>0</th>\n",
       "      <td>0.579</td>\n",
       "      <td>2.450</td>\n",
       "      <td>0</td>\n",
       "      <td>0</td>\n",
       "    </tr>\n",
       "    <tr>\n",
       "      <th>1</th>\n",
       "      <td>2.450</td>\n",
       "      <td>3.893</td>\n",
       "      <td>0</td>\n",
       "      <td>0</td>\n",
       "    </tr>\n",
       "    <tr>\n",
       "      <th>2</th>\n",
       "      <td>3.893</td>\n",
       "      <td>5.793</td>\n",
       "      <td>0</td>\n",
       "      <td>0</td>\n",
       "    </tr>\n",
       "    <tr>\n",
       "      <th>3</th>\n",
       "      <td>5.793</td>\n",
       "      <td>7.521</td>\n",
       "      <td>0</td>\n",
       "      <td>0</td>\n",
       "    </tr>\n",
       "    <tr>\n",
       "      <th>4</th>\n",
       "      <td>7.521</td>\n",
       "      <td>9.279</td>\n",
       "      <td>0</td>\n",
       "      <td>0</td>\n",
       "    </tr>\n",
       "    <tr>\n",
       "      <th>5</th>\n",
       "      <td>9.279</td>\n",
       "      <td>11.150</td>\n",
       "      <td>0</td>\n",
       "      <td>0</td>\n",
       "    </tr>\n",
       "    <tr>\n",
       "      <th>6</th>\n",
       "      <td>11.150</td>\n",
       "      <td>13.036</td>\n",
       "      <td>0</td>\n",
       "      <td>0</td>\n",
       "    </tr>\n",
       "    <tr>\n",
       "      <th>7</th>\n",
       "      <td>13.036</td>\n",
       "      <td>14.721</td>\n",
       "      <td>0</td>\n",
       "      <td>0</td>\n",
       "    </tr>\n",
       "    <tr>\n",
       "      <th>8</th>\n",
       "      <td>14.721</td>\n",
       "      <td>16.707</td>\n",
       "      <td>0</td>\n",
       "      <td>0</td>\n",
       "    </tr>\n",
       "    <tr>\n",
       "      <th>9</th>\n",
       "      <td>16.707</td>\n",
       "      <td>18.507</td>\n",
       "      <td>0</td>\n",
       "      <td>0</td>\n",
       "    </tr>\n",
       "    <tr>\n",
       "      <th>10</th>\n",
       "      <td>18.507</td>\n",
       "      <td>19.964</td>\n",
       "      <td>0</td>\n",
       "      <td>0</td>\n",
       "    </tr>\n",
       "  </tbody>\n",
       "</table>\n",
       "</div>"
      ],
      "text/plain": [
       "     0.036   0.579  0  0.1\n",
       "0    0.579   2.450  0    0\n",
       "1    2.450   3.893  0    0\n",
       "2    3.893   5.793  0    0\n",
       "3    5.793   7.521  0    0\n",
       "4    7.521   9.279  0    0\n",
       "5    9.279  11.150  0    0\n",
       "6   11.150  13.036  0    0\n",
       "7   13.036  14.721  0    0\n",
       "8   14.721  16.707  0    0\n",
       "9   16.707  18.507  0    0\n",
       "10  18.507  19.964  0    0"
      ]
     },
     "execution_count": 4,
     "metadata": {},
     "output_type": "execute_result"
    }
   ],
   "source": [
    "df=pd.read_csv('audio_and_txt_files/101_1b1_Al_sc_Meditron.txt',sep='\\t')\n",
    "df"
   ]
  },
  {
   "cell_type": "code",
   "execution_count": 5,
   "id": "618f49a9",
   "metadata": {},
   "outputs": [
    {
     "data": {
      "text/plain": [
       "['101_1b1_Al_sc_Meditron',\n",
       " '101_1b1_Pr_sc_Meditron',\n",
       " '102_1b1_Ar_sc_Meditron',\n",
       " '103_2b2_Ar_mc_LittC2SE',\n",
       " '104_1b1_Al_sc_Litt3200']"
      ]
     },
     "execution_count": 5,
     "metadata": {},
     "output_type": "execute_result"
    }
   ],
   "source": [
    "path='audio_and_txt_files/'\n",
    "files=[s.split('.')[0] for s in os.listdir(path) if '.txt' in s]\n",
    "files[:5]"
   ]
  },
  {
   "cell_type": "code",
   "execution_count": 6,
   "id": "812e8fdf",
   "metadata": {},
   "outputs": [],
   "source": [
    "def getFilenameInfo(file):\n",
    "    return file.split('_')"
   ]
  },
  {
   "cell_type": "code",
   "execution_count": 7,
   "id": "d8a5d0c1",
   "metadata": {},
   "outputs": [
    {
     "data": {
      "text/plain": [
       "['160', '1b3', 'Al', 'mc', 'AKGC417L']"
      ]
     },
     "execution_count": 7,
     "metadata": {},
     "output_type": "execute_result"
    }
   ],
   "source": [
    "getFilenameInfo('160_1b3_Al_mc_AKGC417L')"
   ]
  },
  {
   "cell_type": "raw",
   "id": "7ccca7b1",
   "metadata": {},
   "source": [
    "1. Patient number (101,102,...,226)\n",
    "2. Recording index\n",
    "3. Chest location:\n",
    "    a. Trachea (Tc)\n",
    "    b. Anterior left (Al)\n",
    "    c. Anterior right (Ar)\n",
    "    d. Posterior left (Pl)\n",
    "    e. Posterior right (Pr)\n",
    "    f. Lateral left (Ll)\n",
    "    g. Lateral right (Lr)\n",
    "4. Acquisition mode:\n",
    "    a. sequential/single channel (sc), \n",
    "    b. simultaneous/multichannel (mc)\n",
    "5. Recording equipment: \n",
    "    a. AKG C417L Microphone (AKGC417L), \n",
    "    b. 3M Littmann Classic II SE Stethoscope (LittC2SE), \n",
    "    c. 3M Litmmann 3200 Electronic Stethoscope (Litt3200, \n",
    "    d.  WelchAllyn Meditron Master Elite Electronic Stethoscope (Meditron)"
   ]
  },
  {
   "cell_type": "markdown",
   "id": "f7d0a564",
   "metadata": {},
   "source": [
    "## Tranforming Data"
   ]
  },
  {
   "cell_type": "code",
   "execution_count": 8,
   "id": "2b601f72",
   "metadata": {},
   "outputs": [
    {
     "data": {
      "text/html": [
       "<div>\n",
       "<style scoped>\n",
       "    .dataframe tbody tr th:only-of-type {\n",
       "        vertical-align: middle;\n",
       "    }\n",
       "\n",
       "    .dataframe tbody tr th {\n",
       "        vertical-align: top;\n",
       "    }\n",
       "\n",
       "    .dataframe thead th {\n",
       "        text-align: right;\n",
       "    }\n",
       "</style>\n",
       "<table border=\"1\" class=\"dataframe\">\n",
       "  <thead>\n",
       "    <tr style=\"text-align: right;\">\n",
       "      <th></th>\n",
       "      <th>start</th>\n",
       "      <th>end</th>\n",
       "      <th>crackles</th>\n",
       "      <th>weezels</th>\n",
       "      <th>patient_id</th>\n",
       "      <th>mode</th>\n",
       "      <th>filename</th>\n",
       "    </tr>\n",
       "  </thead>\n",
       "  <tbody>\n",
       "    <tr>\n",
       "      <th>0</th>\n",
       "      <td>0.036</td>\n",
       "      <td>0.579</td>\n",
       "      <td>0</td>\n",
       "      <td>0</td>\n",
       "      <td>101</td>\n",
       "      <td>sc</td>\n",
       "      <td>101_1b1_Al_sc_Meditron</td>\n",
       "    </tr>\n",
       "    <tr>\n",
       "      <th>1</th>\n",
       "      <td>0.579</td>\n",
       "      <td>2.450</td>\n",
       "      <td>0</td>\n",
       "      <td>0</td>\n",
       "      <td>101</td>\n",
       "      <td>sc</td>\n",
       "      <td>101_1b1_Al_sc_Meditron</td>\n",
       "    </tr>\n",
       "    <tr>\n",
       "      <th>2</th>\n",
       "      <td>2.450</td>\n",
       "      <td>3.893</td>\n",
       "      <td>0</td>\n",
       "      <td>0</td>\n",
       "      <td>101</td>\n",
       "      <td>sc</td>\n",
       "      <td>101_1b1_Al_sc_Meditron</td>\n",
       "    </tr>\n",
       "    <tr>\n",
       "      <th>3</th>\n",
       "      <td>3.893</td>\n",
       "      <td>5.793</td>\n",
       "      <td>0</td>\n",
       "      <td>0</td>\n",
       "      <td>101</td>\n",
       "      <td>sc</td>\n",
       "      <td>101_1b1_Al_sc_Meditron</td>\n",
       "    </tr>\n",
       "    <tr>\n",
       "      <th>4</th>\n",
       "      <td>5.793</td>\n",
       "      <td>7.521</td>\n",
       "      <td>0</td>\n",
       "      <td>0</td>\n",
       "      <td>101</td>\n",
       "      <td>sc</td>\n",
       "      <td>101_1b1_Al_sc_Meditron</td>\n",
       "    </tr>\n",
       "    <tr>\n",
       "      <th>...</th>\n",
       "      <td>...</td>\n",
       "      <td>...</td>\n",
       "      <td>...</td>\n",
       "      <td>...</td>\n",
       "      <td>...</td>\n",
       "      <td>...</td>\n",
       "      <td>...</td>\n",
       "    </tr>\n",
       "    <tr>\n",
       "      <th>6</th>\n",
       "      <td>11.721</td>\n",
       "      <td>13.693</td>\n",
       "      <td>1</td>\n",
       "      <td>0</td>\n",
       "      <td>226</td>\n",
       "      <td>sc</td>\n",
       "      <td>226_1b1_Pl_sc_LittC2SE</td>\n",
       "    </tr>\n",
       "    <tr>\n",
       "      <th>7</th>\n",
       "      <td>13.693</td>\n",
       "      <td>15.536</td>\n",
       "      <td>0</td>\n",
       "      <td>0</td>\n",
       "      <td>226</td>\n",
       "      <td>sc</td>\n",
       "      <td>226_1b1_Pl_sc_LittC2SE</td>\n",
       "    </tr>\n",
       "    <tr>\n",
       "      <th>8</th>\n",
       "      <td>15.536</td>\n",
       "      <td>17.493</td>\n",
       "      <td>0</td>\n",
       "      <td>0</td>\n",
       "      <td>226</td>\n",
       "      <td>sc</td>\n",
       "      <td>226_1b1_Pl_sc_LittC2SE</td>\n",
       "    </tr>\n",
       "    <tr>\n",
       "      <th>9</th>\n",
       "      <td>17.493</td>\n",
       "      <td>19.436</td>\n",
       "      <td>1</td>\n",
       "      <td>0</td>\n",
       "      <td>226</td>\n",
       "      <td>sc</td>\n",
       "      <td>226_1b1_Pl_sc_LittC2SE</td>\n",
       "    </tr>\n",
       "    <tr>\n",
       "      <th>10</th>\n",
       "      <td>19.436</td>\n",
       "      <td>19.979</td>\n",
       "      <td>0</td>\n",
       "      <td>0</td>\n",
       "      <td>226</td>\n",
       "      <td>sc</td>\n",
       "      <td>226_1b1_Pl_sc_LittC2SE</td>\n",
       "    </tr>\n",
       "  </tbody>\n",
       "</table>\n",
       "<p>6898 rows × 7 columns</p>\n",
       "</div>"
      ],
      "text/plain": [
       "     start     end  crackles  weezels patient_id mode                filename\n",
       "0    0.036   0.579         0        0        101   sc  101_1b1_Al_sc_Meditron\n",
       "1    0.579   2.450         0        0        101   sc  101_1b1_Al_sc_Meditron\n",
       "2    2.450   3.893         0        0        101   sc  101_1b1_Al_sc_Meditron\n",
       "3    3.893   5.793         0        0        101   sc  101_1b1_Al_sc_Meditron\n",
       "4    5.793   7.521         0        0        101   sc  101_1b1_Al_sc_Meditron\n",
       "..     ...     ...       ...      ...        ...  ...                     ...\n",
       "6   11.721  13.693         1        0        226   sc  226_1b1_Pl_sc_LittC2SE\n",
       "7   13.693  15.536         0        0        226   sc  226_1b1_Pl_sc_LittC2SE\n",
       "8   15.536  17.493         0        0        226   sc  226_1b1_Pl_sc_LittC2SE\n",
       "9   17.493  19.436         1        0        226   sc  226_1b1_Pl_sc_LittC2SE\n",
       "10  19.436  19.979         0        0        226   sc  226_1b1_Pl_sc_LittC2SE\n",
       "\n",
       "[6898 rows x 7 columns]"
      ]
     },
     "execution_count": 8,
     "metadata": {},
     "output_type": "execute_result"
    }
   ],
   "source": [
    "files_data=[]\n",
    "for file in files:\n",
    "    data=pd.read_csv(path + file + '.txt',sep='\\t',names=['start','end','crackles','weezels'])\n",
    "    name_data = getFilenameInfo(file)\n",
    "    data['patient_id']=name_data[0]\n",
    "    data['mode']=name_data[-2]\n",
    "    data['filename']=file\n",
    "    files_data.append(data)\n",
    "files_df=pd.concat(files_data)\n",
    "files_df.reset_index()\n",
    "files_df"
   ]
  },
  {
   "cell_type": "code",
   "execution_count": 9,
   "id": "9e3451b5",
   "metadata": {},
   "outputs": [
    {
     "name": "stdout",
     "output_type": "stream",
     "text": [
      "<class 'pandas.core.frame.DataFrame'>\n",
      "RangeIndex: 126 entries, 0 to 125\n",
      "Data columns (total 2 columns):\n",
      " #   Column      Non-Null Count  Dtype \n",
      "---  ------      --------------  ----- \n",
      " 0   patient_id  126 non-null    int64 \n",
      " 1   disease     126 non-null    object\n",
      "dtypes: int64(1), object(1)\n",
      "memory usage: 2.1+ KB\n"
     ]
    }
   ],
   "source": [
    "patient_data.info()"
   ]
  },
  {
   "cell_type": "code",
   "execution_count": 10,
   "id": "b0664ba2",
   "metadata": {},
   "outputs": [
    {
     "name": "stdout",
     "output_type": "stream",
     "text": [
      "<class 'pandas.core.frame.DataFrame'>\n",
      "Int64Index: 6898 entries, 0 to 10\n",
      "Data columns (total 7 columns):\n",
      " #   Column      Non-Null Count  Dtype  \n",
      "---  ------      --------------  -----  \n",
      " 0   start       6898 non-null   float64\n",
      " 1   end         6898 non-null   float64\n",
      " 2   crackles    6898 non-null   int64  \n",
      " 3   weezels     6898 non-null   int64  \n",
      " 4   patient_id  6898 non-null   object \n",
      " 5   mode        6898 non-null   object \n",
      " 6   filename    6898 non-null   object \n",
      "dtypes: float64(2), int64(2), object(3)\n",
      "memory usage: 431.1+ KB\n"
     ]
    }
   ],
   "source": [
    "files_df.info()"
   ]
  },
  {
   "cell_type": "markdown",
   "id": "22877000",
   "metadata": {},
   "source": [
    "### Getting pid of both to same type and merge both dataframes on pid "
   ]
  },
  {
   "cell_type": "code",
   "execution_count": 11,
   "id": "d7d3636d",
   "metadata": {},
   "outputs": [],
   "source": [
    "patient_data.patient_id=patient_data.patient_id.astype('int32')\n",
    "files_df.patient_id=files_df.patient_id.astype('int32')"
   ]
  },
  {
   "cell_type": "code",
   "execution_count": 12,
   "id": "e52f32a5",
   "metadata": {},
   "outputs": [
    {
     "data": {
      "text/html": [
       "<div>\n",
       "<style scoped>\n",
       "    .dataframe tbody tr th:only-of-type {\n",
       "        vertical-align: middle;\n",
       "    }\n",
       "\n",
       "    .dataframe tbody tr th {\n",
       "        vertical-align: top;\n",
       "    }\n",
       "\n",
       "    .dataframe thead th {\n",
       "        text-align: right;\n",
       "    }\n",
       "</style>\n",
       "<table border=\"1\" class=\"dataframe\">\n",
       "  <thead>\n",
       "    <tr style=\"text-align: right;\">\n",
       "      <th></th>\n",
       "      <th>start</th>\n",
       "      <th>end</th>\n",
       "      <th>crackles</th>\n",
       "      <th>weezels</th>\n",
       "      <th>patient_id</th>\n",
       "      <th>mode</th>\n",
       "      <th>filename</th>\n",
       "      <th>disease</th>\n",
       "    </tr>\n",
       "  </thead>\n",
       "  <tbody>\n",
       "    <tr>\n",
       "      <th>0</th>\n",
       "      <td>0.036</td>\n",
       "      <td>0.579</td>\n",
       "      <td>0</td>\n",
       "      <td>0</td>\n",
       "      <td>101</td>\n",
       "      <td>sc</td>\n",
       "      <td>101_1b1_Al_sc_Meditron</td>\n",
       "      <td>URTI</td>\n",
       "    </tr>\n",
       "    <tr>\n",
       "      <th>1</th>\n",
       "      <td>0.579</td>\n",
       "      <td>2.450</td>\n",
       "      <td>0</td>\n",
       "      <td>0</td>\n",
       "      <td>101</td>\n",
       "      <td>sc</td>\n",
       "      <td>101_1b1_Al_sc_Meditron</td>\n",
       "      <td>URTI</td>\n",
       "    </tr>\n",
       "    <tr>\n",
       "      <th>2</th>\n",
       "      <td>2.450</td>\n",
       "      <td>3.893</td>\n",
       "      <td>0</td>\n",
       "      <td>0</td>\n",
       "      <td>101</td>\n",
       "      <td>sc</td>\n",
       "      <td>101_1b1_Al_sc_Meditron</td>\n",
       "      <td>URTI</td>\n",
       "    </tr>\n",
       "    <tr>\n",
       "      <th>3</th>\n",
       "      <td>3.893</td>\n",
       "      <td>5.793</td>\n",
       "      <td>0</td>\n",
       "      <td>0</td>\n",
       "      <td>101</td>\n",
       "      <td>sc</td>\n",
       "      <td>101_1b1_Al_sc_Meditron</td>\n",
       "      <td>URTI</td>\n",
       "    </tr>\n",
       "    <tr>\n",
       "      <th>4</th>\n",
       "      <td>5.793</td>\n",
       "      <td>7.521</td>\n",
       "      <td>0</td>\n",
       "      <td>0</td>\n",
       "      <td>101</td>\n",
       "      <td>sc</td>\n",
       "      <td>101_1b1_Al_sc_Meditron</td>\n",
       "      <td>URTI</td>\n",
       "    </tr>\n",
       "    <tr>\n",
       "      <th>...</th>\n",
       "      <td>...</td>\n",
       "      <td>...</td>\n",
       "      <td>...</td>\n",
       "      <td>...</td>\n",
       "      <td>...</td>\n",
       "      <td>...</td>\n",
       "      <td>...</td>\n",
       "      <td>...</td>\n",
       "    </tr>\n",
       "    <tr>\n",
       "      <th>6893</th>\n",
       "      <td>11.721</td>\n",
       "      <td>13.693</td>\n",
       "      <td>1</td>\n",
       "      <td>0</td>\n",
       "      <td>226</td>\n",
       "      <td>sc</td>\n",
       "      <td>226_1b1_Pl_sc_LittC2SE</td>\n",
       "      <td>Pneumonia</td>\n",
       "    </tr>\n",
       "    <tr>\n",
       "      <th>6894</th>\n",
       "      <td>13.693</td>\n",
       "      <td>15.536</td>\n",
       "      <td>0</td>\n",
       "      <td>0</td>\n",
       "      <td>226</td>\n",
       "      <td>sc</td>\n",
       "      <td>226_1b1_Pl_sc_LittC2SE</td>\n",
       "      <td>Pneumonia</td>\n",
       "    </tr>\n",
       "    <tr>\n",
       "      <th>6895</th>\n",
       "      <td>15.536</td>\n",
       "      <td>17.493</td>\n",
       "      <td>0</td>\n",
       "      <td>0</td>\n",
       "      <td>226</td>\n",
       "      <td>sc</td>\n",
       "      <td>226_1b1_Pl_sc_LittC2SE</td>\n",
       "      <td>Pneumonia</td>\n",
       "    </tr>\n",
       "    <tr>\n",
       "      <th>6896</th>\n",
       "      <td>17.493</td>\n",
       "      <td>19.436</td>\n",
       "      <td>1</td>\n",
       "      <td>0</td>\n",
       "      <td>226</td>\n",
       "      <td>sc</td>\n",
       "      <td>226_1b1_Pl_sc_LittC2SE</td>\n",
       "      <td>Pneumonia</td>\n",
       "    </tr>\n",
       "    <tr>\n",
       "      <th>6897</th>\n",
       "      <td>19.436</td>\n",
       "      <td>19.979</td>\n",
       "      <td>0</td>\n",
       "      <td>0</td>\n",
       "      <td>226</td>\n",
       "      <td>sc</td>\n",
       "      <td>226_1b1_Pl_sc_LittC2SE</td>\n",
       "      <td>Pneumonia</td>\n",
       "    </tr>\n",
       "  </tbody>\n",
       "</table>\n",
       "<p>6898 rows × 8 columns</p>\n",
       "</div>"
      ],
      "text/plain": [
       "       start     end  crackles  weezels  patient_id mode  \\\n",
       "0      0.036   0.579         0        0         101   sc   \n",
       "1      0.579   2.450         0        0         101   sc   \n",
       "2      2.450   3.893         0        0         101   sc   \n",
       "3      3.893   5.793         0        0         101   sc   \n",
       "4      5.793   7.521         0        0         101   sc   \n",
       "...      ...     ...       ...      ...         ...  ...   \n",
       "6893  11.721  13.693         1        0         226   sc   \n",
       "6894  13.693  15.536         0        0         226   sc   \n",
       "6895  15.536  17.493         0        0         226   sc   \n",
       "6896  17.493  19.436         1        0         226   sc   \n",
       "6897  19.436  19.979         0        0         226   sc   \n",
       "\n",
       "                    filename    disease  \n",
       "0     101_1b1_Al_sc_Meditron       URTI  \n",
       "1     101_1b1_Al_sc_Meditron       URTI  \n",
       "2     101_1b1_Al_sc_Meditron       URTI  \n",
       "3     101_1b1_Al_sc_Meditron       URTI  \n",
       "4     101_1b1_Al_sc_Meditron       URTI  \n",
       "...                      ...        ...  \n",
       "6893  226_1b1_Pl_sc_LittC2SE  Pneumonia  \n",
       "6894  226_1b1_Pl_sc_LittC2SE  Pneumonia  \n",
       "6895  226_1b1_Pl_sc_LittC2SE  Pneumonia  \n",
       "6896  226_1b1_Pl_sc_LittC2SE  Pneumonia  \n",
       "6897  226_1b1_Pl_sc_LittC2SE  Pneumonia  \n",
       "\n",
       "[6898 rows x 8 columns]"
      ]
     },
     "execution_count": 12,
     "metadata": {},
     "output_type": "execute_result"
    }
   ],
   "source": [
    "data=pd.merge(files_df,patient_data,on='patient_id')\n",
    "data"
   ]
  },
  {
   "cell_type": "code",
   "execution_count": 13,
   "id": "37a755e5",
   "metadata": {},
   "outputs": [],
   "source": [
    "# os.makedirs('csv_data')\n",
    "# data.to_csv('csv_data/data.csv',index=False)"
   ]
  },
  {
   "cell_type": "markdown",
   "id": "cba2a287",
   "metadata": {},
   "source": [
    "## Visualizing audio"
   ]
  },
  {
   "cell_type": "code",
   "execution_count": 15,
   "id": "3a322482",
   "metadata": {},
   "outputs": [],
   "source": [
    "%matplotlib inline\n",
    "filename='104_1b1_Pr_sc_Litt3200.wav'"
   ]
  },
  {
   "cell_type": "code",
   "execution_count": 16,
   "id": "7744989f",
   "metadata": {},
   "outputs": [
    {
     "data": {
      "text/html": [
       "\n",
       "                <audio  controls=\"controls\" >\n",
       "                    <source src=\"data:audio/wav;base64,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\" type=\"audio/wav\" />\n",
       "                    Your browser does not support the audio element.\n",
       "                </audio>\n",
       "              "
      ],
      "text/plain": [
       "<IPython.lib.display.Audio object>"
      ]
     },
     "execution_count": 16,
     "metadata": {},
     "output_type": "execute_result"
    },
    {
     "data": {
      "image/png": "[encoded data removed]",
      "text/plain": [
       "<Figure size 1008x360 with 1 Axes>"
      ]
     },
     "metadata": {
      "needs_background": "light"
     },
     "output_type": "display_data"
    }
   ],
   "source": [
    "plt.figure(figsize=(14,5))\n",
    "data1,sample_rate=librosa.load(filename)\n",
    "librosa.display.waveshow(data1,sr=sample_rate)\n",
    "ipd.Audio(filename)"
   ]
  },
  {
   "cell_type": "code",
   "execution_count": 17,
   "id": "9a19e3da",
   "metadata": {},
   "outputs": [
    {
     "data": {
      "text/plain": [
       "22050"
      ]
     },
     "execution_count": 17,
     "metadata": {},
     "output_type": "execute_result"
    }
   ],
   "source": [
    "sample_rate"
   ]
  },
  {
   "cell_type": "code",
   "execution_count": 18,
   "id": "983dbb87",
   "metadata": {},
   "outputs": [
    {
     "data": {
      "text/html": [
       "<div>\n",
       "<style scoped>\n",
       "    .dataframe tbody tr th:only-of-type {\n",
       "        vertical-align: middle;\n",
       "    }\n",
       "\n",
       "    .dataframe tbody tr th {\n",
       "        vertical-align: top;\n",
       "    }\n",
       "\n",
       "    .dataframe thead th {\n",
       "        text-align: right;\n",
       "    }\n",
       "</style>\n",
       "<table border=\"1\" class=\"dataframe\">\n",
       "  <thead>\n",
       "    <tr style=\"text-align: right;\">\n",
       "      <th></th>\n",
       "      <th>start</th>\n",
       "      <th>end</th>\n",
       "      <th>crackles</th>\n",
       "      <th>weezels</th>\n",
       "      <th>patient_id</th>\n",
       "      <th>mode</th>\n",
       "      <th>filename</th>\n",
       "      <th>disease</th>\n",
       "    </tr>\n",
       "  </thead>\n",
       "  <tbody>\n",
       "    <tr>\n",
       "      <th>0</th>\n",
       "      <td>0.036</td>\n",
       "      <td>0.579</td>\n",
       "      <td>0</td>\n",
       "      <td>0</td>\n",
       "      <td>101</td>\n",
       "      <td>sc</td>\n",
       "      <td>101_1b1_Al_sc_Meditron</td>\n",
       "      <td>URTI</td>\n",
       "    </tr>\n",
       "    <tr>\n",
       "      <th>1</th>\n",
       "      <td>0.579</td>\n",
       "      <td>2.450</td>\n",
       "      <td>0</td>\n",
       "      <td>0</td>\n",
       "      <td>101</td>\n",
       "      <td>sc</td>\n",
       "      <td>101_1b1_Al_sc_Meditron</td>\n",
       "      <td>URTI</td>\n",
       "    </tr>\n",
       "    <tr>\n",
       "      <th>2</th>\n",
       "      <td>2.450</td>\n",
       "      <td>3.893</td>\n",
       "      <td>0</td>\n",
       "      <td>0</td>\n",
       "      <td>101</td>\n",
       "      <td>sc</td>\n",
       "      <td>101_1b1_Al_sc_Meditron</td>\n",
       "      <td>URTI</td>\n",
       "    </tr>\n",
       "    <tr>\n",
       "      <th>3</th>\n",
       "      <td>3.893</td>\n",
       "      <td>5.793</td>\n",
       "      <td>0</td>\n",
       "      <td>0</td>\n",
       "      <td>101</td>\n",
       "      <td>sc</td>\n",
       "      <td>101_1b1_Al_sc_Meditron</td>\n",
       "      <td>URTI</td>\n",
       "    </tr>\n",
       "    <tr>\n",
       "      <th>4</th>\n",
       "      <td>5.793</td>\n",
       "      <td>7.521</td>\n",
       "      <td>0</td>\n",
       "      <td>0</td>\n",
       "      <td>101</td>\n",
       "      <td>sc</td>\n",
       "      <td>101_1b1_Al_sc_Meditron</td>\n",
       "      <td>URTI</td>\n",
       "    </tr>\n",
       "    <tr>\n",
       "      <th>...</th>\n",
       "      <td>...</td>\n",
       "      <td>...</td>\n",
       "      <td>...</td>\n",
       "      <td>...</td>\n",
       "      <td>...</td>\n",
       "      <td>...</td>\n",
       "      <td>...</td>\n",
       "      <td>...</td>\n",
       "    </tr>\n",
       "    <tr>\n",
       "      <th>6893</th>\n",
       "      <td>11.721</td>\n",
       "      <td>13.693</td>\n",
       "      <td>1</td>\n",
       "      <td>0</td>\n",
       "      <td>226</td>\n",
       "      <td>sc</td>\n",
       "      <td>226_1b1_Pl_sc_LittC2SE</td>\n",
       "      <td>Pneumonia</td>\n",
       "    </tr>\n",
       "    <tr>\n",
       "      <th>6894</th>\n",
       "      <td>13.693</td>\n",
       "      <td>15.536</td>\n",
       "      <td>0</td>\n",
       "      <td>0</td>\n",
       "      <td>226</td>\n",
       "      <td>sc</td>\n",
       "      <td>226_1b1_Pl_sc_LittC2SE</td>\n",
       "      <td>Pneumonia</td>\n",
       "    </tr>\n",
       "    <tr>\n",
       "      <th>6895</th>\n",
       "      <td>15.536</td>\n",
       "      <td>17.493</td>\n",
       "      <td>0</td>\n",
       "      <td>0</td>\n",
       "      <td>226</td>\n",
       "      <td>sc</td>\n",
       "      <td>226_1b1_Pl_sc_LittC2SE</td>\n",
       "      <td>Pneumonia</td>\n",
       "    </tr>\n",
       "    <tr>\n",
       "      <th>6896</th>\n",
       "      <td>17.493</td>\n",
       "      <td>19.436</td>\n",
       "      <td>1</td>\n",
       "      <td>0</td>\n",
       "      <td>226</td>\n",
       "      <td>sc</td>\n",
       "      <td>226_1b1_Pl_sc_LittC2SE</td>\n",
       "      <td>Pneumonia</td>\n",
       "    </tr>\n",
       "    <tr>\n",
       "      <th>6897</th>\n",
       "      <td>19.436</td>\n",
       "      <td>19.979</td>\n",
       "      <td>0</td>\n",
       "      <td>0</td>\n",
       "      <td>226</td>\n",
       "      <td>sc</td>\n",
       "      <td>226_1b1_Pl_sc_LittC2SE</td>\n",
       "      <td>Pneumonia</td>\n",
       "    </tr>\n",
       "  </tbody>\n",
       "</table>\n",
       "<p>6898 rows × 8 columns</p>\n",
       "</div>"
      ],
      "text/plain": [
       "       start     end  crackles  weezels  patient_id mode  \\\n",
       "0      0.036   0.579         0        0         101   sc   \n",
       "1      0.579   2.450         0        0         101   sc   \n",
       "2      2.450   3.893         0        0         101   sc   \n",
       "3      3.893   5.793         0        0         101   sc   \n",
       "4      5.793   7.521         0        0         101   sc   \n",
       "...      ...     ...       ...      ...         ...  ...   \n",
       "6893  11.721  13.693         1        0         226   sc   \n",
       "6894  13.693  15.536         0        0         226   sc   \n",
       "6895  15.536  17.493         0        0         226   sc   \n",
       "6896  17.493  19.436         1        0         226   sc   \n",
       "6897  19.436  19.979         0        0         226   sc   \n",
       "\n",
       "                    filename    disease  \n",
       "0     101_1b1_Al_sc_Meditron       URTI  \n",
       "1     101_1b1_Al_sc_Meditron       URTI  \n",
       "2     101_1b1_Al_sc_Meditron       URTI  \n",
       "3     101_1b1_Al_sc_Meditron       URTI  \n",
       "4     101_1b1_Al_sc_Meditron       URTI  \n",
       "...                      ...        ...  \n",
       "6893  226_1b1_Pl_sc_LittC2SE  Pneumonia  \n",
       "6894  226_1b1_Pl_sc_LittC2SE  Pneumonia  \n",
       "6895  226_1b1_Pl_sc_LittC2SE  Pneumonia  \n",
       "6896  226_1b1_Pl_sc_LittC2SE  Pneumonia  \n",
       "6897  226_1b1_Pl_sc_LittC2SE  Pneumonia  \n",
       "\n",
       "[6898 rows x 8 columns]"
      ]
     },
     "execution_count": 18,
     "metadata": {},
     "output_type": "execute_result"
    }
   ],
   "source": [
    "data"
   ]
  },
  {
   "cell_type": "markdown",
   "id": "3f60505c",
   "metadata": {},
   "source": [
    "### Testing with SciPy"
   ]
  },
  {
   "cell_type": "code",
   "execution_count": 19,
   "id": "e9c89c71",
   "metadata": {},
   "outputs": [],
   "source": [
    "wave_sample_rate, wave_audio=wav.read(filename)"
   ]
  },
  {
   "cell_type": "code",
   "execution_count": 20,
   "id": "31788d2b",
   "metadata": {},
   "outputs": [
    {
     "data": {
      "text/plain": [
       "4000"
      ]
     },
     "execution_count": 20,
     "metadata": {},
     "output_type": "execute_result"
    }
   ],
   "source": [
    "wave_sample_rate"
   ]
  },
  {
   "cell_type": "code",
   "execution_count": 21,
   "id": "3b9044ec",
   "metadata": {},
   "outputs": [
    {
     "data": {
      "text/plain": [
       "array([    0,     1,     0, ..., -2932, -3425, -3750], dtype=int16)"
      ]
     },
     "execution_count": 21,
     "metadata": {},
     "output_type": "execute_result"
    }
   ],
   "source": [
    "wave_audio"
   ]
  },
  {
   "cell_type": "code",
   "execution_count": 22,
   "id": "0b7c1cdc",
   "metadata": {},
   "outputs": [
    {
     "data": {
      "text/plain": [
       "[<matplotlib.lines.Line2D at 0x136a50dfc70>]"
      ]
     },
     "execution_count": 22,
     "metadata": {},
     "output_type": "execute_result"
    },
    {
     "data": {
      "image/png": "[encoded data removed]",
      "text/plain": [
       "<Figure size 864x288 with 1 Axes>"
      ]
     },
     "metadata": {
      "needs_background": "light"
     },
     "output_type": "display_data"
    }
   ],
   "source": [
    "plt.figure(figsize=(12, 4))\n",
    "plt.plot(wave_audio)"
   ]
  },
  {
   "cell_type": "markdown",
   "id": "cfcadbde",
   "metadata": {},
   "source": [
    "## 2. Processing Audio files\n",
    "#### Now we only want that parts from whole audio file which contains Respiratory Cycles. \n",
    "#### This is denoted by the start and end times mentioned in the txt files."
   ]
  },
  {
   "cell_type": "code",
   "execution_count": 23,
   "id": "be3a9170",
   "metadata": {},
   "outputs": [],
   "source": [
    "def getPureSample(raw_data,start,end,sr=22050):\n",
    "    '''\n",
    "    Takes a numpy array and spilts its using start and end args\n",
    "    \n",
    "    raw_data=numpy array of audio sample\n",
    "    start=time\n",
    "    end=time\n",
    "    sr=sampling_rate\n",
    "    mode=mono/stereo\n",
    "    \n",
    "    '''\n",
    "    max_ind = len(raw_data) \n",
    "    start_ind = min(int(start * sr), max_ind)\n",
    "    end_ind = min(int(end * sr), max_ind)\n",
    "    return raw_data[start_ind: end_ind]"
   ]
  },
  {
   "cell_type": "markdown",
   "id": "2c56a17f",
   "metadata": {},
   "source": [
    "#### We multiplied start with sampling rate cause start is time and raw_data is array sampled acc. to sampling rate\n",
    "#### Now we also want our input images to our cnn to be of same size for that audio files must be of same length i.e (start - end) must be same.\n",
    "\n",
    "#### So, We need to find the best length we can have."
   ]
  },
  {
   "cell_type": "markdown",
   "id": "0194243d",
   "metadata": {},
   "source": [
    "# Outlier Detection:"
   ]
  },
  {
   "cell_type": "raw",
   "id": "0d0c2ec3",
   "metadata": {},
   "source": [
    "We can slice the audio files, but there are things we need to consider as well:\n",
    "    1. We need to make sure that they will have the same length (for feeding them into the model for training later)\n",
    "    2. If they're not the same length, then we have to pad the audio with silent (or zeroes) sounds.\n",
    "    3. For the length, we have to know what is the optimal length of time we should use."
   ]
  },
  {
   "cell_type": "code",
   "execution_count": 24,
   "id": "52de39bd",
   "metadata": {},
   "outputs": [
    {
     "data": {
      "text/plain": [
       "16.163"
      ]
     },
     "execution_count": 24,
     "metadata": {},
     "output_type": "execute_result"
    }
   ],
   "source": [
    "#Getting the max length per file that we currently have in our dataframe\n",
    "\n",
    "data['len_per_slice'] = data['end'].sub(data['start'], axis = 0) \n",
    "max_len_per_slice = max(data['len_per_slice'])\n",
    "max_len_per_slice"
   ]
  },
  {
   "cell_type": "markdown",
   "id": "a17c05ac",
   "metadata": {},
   "source": [
    "#### It isn't possible for someone to have 1 breathe as long as 16 seconds.\n",
    "\n",
    "#### So we try and understand our data and check the outliers and the relative maximum of the dataset."
   ]
  },
  {
   "cell_type": "code",
   "execution_count": 27,
   "id": "7d9dbd7d",
   "metadata": {},
   "outputs": [
    {
     "data": {
      "text/plain": [
       "<AxesSubplot:ylabel='patient_id'>"
      ]
     },
     "execution_count": 27,
     "metadata": {},
     "output_type": "execute_result"
    },
    {
     "data": {
      "image/png": "[encoded data removed]",
      "text/plain": [
       "<Figure size 432x288 with 1 Axes>"
      ]
     },
     "metadata": {
      "needs_background": "light"
     },
     "output_type": "display_data"
    }
   ],
   "source": [
    "sns.scatterplot(x=(data.end-data.start), y=data.patient_id)"
   ]
  },
  {
   "cell_type": "code",
   "execution_count": 28,
   "id": "8ac6ee0e",
   "metadata": {},
   "outputs": [
    {
     "data": {
      "text/plain": [
       "<AxesSubplot:>"
      ]
     },
     "execution_count": 28,
     "metadata": {},
     "output_type": "execute_result"
    },
    {
     "data": {
      "image/png": "[encoded data removed]",
      "text/plain": [
       "<Figure size 432x288 with 1 Axes>"
      ]
     },
     "metadata": {
      "needs_background": "light"
     },
     "output_type": "display_data"
    }
   ],
   "source": [
    "sns.boxplot(y=(data.end-data.start))"
   ]
  },
  {
   "cell_type": "markdown",
   "id": "0f206e5b",
   "metadata": {},
   "source": [
    "#### From these plots we can conclude that best length is ~6\n",
    "\n",
    "#### Also if difference is <6 we must Zero Pad it to get it to required length(Zero Padding means silent)."
   ]
  },
  {
   "cell_type": "code",
   "execution_count": 29,
   "id": "31e791cc",
   "metadata": {},
   "outputs": [],
   "source": [
    "# os.makedirs('processed_audio_files')"
   ]
  },
  {
   "cell_type": "code",
   "execution_count": 30,
   "id": "b53e9ee3",
   "metadata": {},
   "outputs": [
    {
     "name": "stdout",
     "output_type": "stream",
     "text": [
      "Index -> 0\n",
      "Data->\n",
      " start                             0.036\n",
      "end                               0.579\n",
      "crackles                              0\n",
      "weezels                               0\n",
      "patient_id                          101\n",
      "mode                                 sc\n",
      "filename         101_1b1_Al_sc_Meditron\n",
      "disease                            URTI\n",
      "len_per_slice                     0.543\n",
      "Name: 0, dtype: object\n"
     ]
    }
   ],
   "source": [
    "for index,row in data.iterrows():\n",
    "    print(\"Index ->\",index)\n",
    "    print(\"Data->\\n\",row)\n",
    "    break"
   ]
  },
  {
   "cell_type": "markdown",
   "id": "63795901",
   "metadata": {},
   "source": [
    "#### Also a single sample of audio file can have Many Respiratory Cycles so we might have to create multiple files for a single audio file\n",
    "\n",
    "#### We will be using Librosa module for loading audio files and Soundfile module for writing to output path.\n"
   ]
  },
  {
   "cell_type": "code",
   "execution_count": 6,
   "id": "cea55a2e",
   "metadata": {},
   "outputs": [],
   "source": [
    "# i,c=0,0\n",
    "# for index,row in data.iterrows():\n",
    "#     maxLen=6\n",
    "#     start=row['start']\n",
    "#     end=row['end']\n",
    "#     filename=row['filename']\n",
    "    \n",
    "#     #If len > maxLen , change it to maxLen\n",
    "#     if end-start>maxLen:\n",
    "#         end=start+maxLen\n",
    "    \n",
    "#     audio_file_loc = path + filename + '.wav'\n",
    "    \n",
    "#     if index > 0:\n",
    "#         #check if more cycles exits for same patient if so then add i to change filename\n",
    "#         if data.iloc[index-1]['filename']==filename:\n",
    "#             i+=1\n",
    "#         else:\n",
    "#             i=0\n",
    "#     filename= filename + '_' + str(i) + '.wav'\n",
    "    \n",
    "#     save_path='processed_audio_files/' + filename\n",
    "#     c+=1\n",
    "    \n",
    "#     audioArr,sampleRate=lb.load(audio_file_loc)\n",
    "#     pureSample=getPureSample(audioArr,start,end,sampleRate)\n",
    "    \n",
    "#     #pad audio if pureSample len < max_len\n",
    "#     reqLen=6*sampleRate\n",
    "#     padded_data = lb.util.pad_center(pureSample, reqLen)\n",
    "    \n",
    "#     sf.write(file=save_path,data=padded_data,samplerate=sampleRate)\n",
    "# print('Total Files Processed: ',c)"
   ]
  },
  {
   "cell_type": "markdown",
   "id": "138aa955",
   "metadata": {},
   "source": [
    "### Classification of classes into COPD and Non COPD"
   ]
  },
  {
   "cell_type": "code",
   "execution_count": 32,
   "id": "c4710296",
   "metadata": {},
   "outputs": [
    {
     "data": {
      "text/html": [
       "<div>\n",
       "<style scoped>\n",
       "    .dataframe tbody tr th:only-of-type {\n",
       "        vertical-align: middle;\n",
       "    }\n",
       "\n",
       "    .dataframe tbody tr th {\n",
       "        vertical-align: top;\n",
       "    }\n",
       "\n",
       "    .dataframe thead th {\n",
       "        text-align: right;\n",
       "    }\n",
       "</style>\n",
       "<table border=\"1\" class=\"dataframe\">\n",
       "  <thead>\n",
       "    <tr style=\"text-align: right;\">\n",
       "      <th></th>\n",
       "      <th>patient_id</th>\n",
       "      <th>disease</th>\n",
       "    </tr>\n",
       "  </thead>\n",
       "  <tbody>\n",
       "    <tr>\n",
       "      <th>0</th>\n",
       "      <td>101</td>\n",
       "      <td>URTI</td>\n",
       "    </tr>\n",
       "    <tr>\n",
       "      <th>1</th>\n",
       "      <td>102</td>\n",
       "      <td>Healthy</td>\n",
       "    </tr>\n",
       "    <tr>\n",
       "      <th>2</th>\n",
       "      <td>103</td>\n",
       "      <td>Asthma</td>\n",
       "    </tr>\n",
       "    <tr>\n",
       "      <th>3</th>\n",
       "      <td>104</td>\n",
       "      <td>COPD</td>\n",
       "    </tr>\n",
       "    <tr>\n",
       "      <th>4</th>\n",
       "      <td>105</td>\n",
       "      <td>URTI</td>\n",
       "    </tr>\n",
       "  </tbody>\n",
       "</table>\n",
       "</div>"
      ],
      "text/plain": [
       "   patient_id  disease\n",
       "0         101     URTI\n",
       "1         102  Healthy\n",
       "2         103   Asthma\n",
       "3         104     COPD\n",
       "4         105     URTI"
      ]
     },
     "execution_count": 32,
     "metadata": {},
     "output_type": "execute_result"
    }
   ],
   "source": [
    "diagnosis=pd.read_csv('patient_diagnosis.csv',names=['patient_id','disease'])\n",
    "diagnosis.head()"
   ]
  },
  {
   "cell_type": "code",
   "execution_count": 33,
   "id": "2a21c9cb",
   "metadata": {},
   "outputs": [
    {
     "data": {
      "text/html": [
       "<div>\n",
       "<style scoped>\n",
       "    .dataframe tbody tr th:only-of-type {\n",
       "        vertical-align: middle;\n",
       "    }\n",
       "\n",
       "    .dataframe tbody tr th {\n",
       "        vertical-align: top;\n",
       "    }\n",
       "\n",
       "    .dataframe thead th {\n",
       "        text-align: right;\n",
       "    }\n",
       "</style>\n",
       "<table border=\"1\" class=\"dataframe\">\n",
       "  <thead>\n",
       "    <tr style=\"text-align: right;\">\n",
       "      <th></th>\n",
       "      <th>patient_id</th>\n",
       "      <th>disease</th>\n",
       "    </tr>\n",
       "  </thead>\n",
       "  <tbody>\n",
       "    <tr>\n",
       "      <th>0</th>\n",
       "      <td>101</td>\n",
       "      <td>non-COPD</td>\n",
       "    </tr>\n",
       "    <tr>\n",
       "      <th>1</th>\n",
       "      <td>102</td>\n",
       "      <td>non-COPD</td>\n",
       "    </tr>\n",
       "    <tr>\n",
       "      <th>2</th>\n",
       "      <td>103</td>\n",
       "      <td>non-COPD</td>\n",
       "    </tr>\n",
       "    <tr>\n",
       "      <th>3</th>\n",
       "      <td>104</td>\n",
       "      <td>COPD</td>\n",
       "    </tr>\n",
       "    <tr>\n",
       "      <th>4</th>\n",
       "      <td>105</td>\n",
       "      <td>non-COPD</td>\n",
       "    </tr>\n",
       "    <tr>\n",
       "      <th>...</th>\n",
       "      <td>...</td>\n",
       "      <td>...</td>\n",
       "    </tr>\n",
       "    <tr>\n",
       "      <th>121</th>\n",
       "      <td>222</td>\n",
       "      <td>COPD</td>\n",
       "    </tr>\n",
       "    <tr>\n",
       "      <th>122</th>\n",
       "      <td>223</td>\n",
       "      <td>COPD</td>\n",
       "    </tr>\n",
       "    <tr>\n",
       "      <th>123</th>\n",
       "      <td>224</td>\n",
       "      <td>non-COPD</td>\n",
       "    </tr>\n",
       "    <tr>\n",
       "      <th>124</th>\n",
       "      <td>225</td>\n",
       "      <td>non-COPD</td>\n",
       "    </tr>\n",
       "    <tr>\n",
       "      <th>125</th>\n",
       "      <td>226</td>\n",
       "      <td>non-COPD</td>\n",
       "    </tr>\n",
       "  </tbody>\n",
       "</table>\n",
       "<p>126 rows × 2 columns</p>\n",
       "</div>"
      ],
      "text/plain": [
       "     patient_id   disease\n",
       "0           101  non-COPD\n",
       "1           102  non-COPD\n",
       "2           103  non-COPD\n",
       "3           104      COPD\n",
       "4           105  non-COPD\n",
       "..          ...       ...\n",
       "121         222      COPD\n",
       "122         223      COPD\n",
       "123         224  non-COPD\n",
       "124         225  non-COPD\n",
       "125         226  non-COPD\n",
       "\n",
       "[126 rows x 2 columns]"
      ]
     },
     "execution_count": 33,
     "metadata": {},
     "output_type": "execute_result"
    }
   ],
   "source": [
    "# Change all fields except 'COPD' as 'non-COPD'\n",
    "diagnosis['disease'] = diagnosis['disease'].apply(lambda x: 'non-COPD' if x != 'COPD' else 'COPD')\n",
    " \n",
    "# Print the dataset\n",
    "diagnosis"
   ]
  },
  {
   "cell_type": "code",
   "execution_count": 34,
   "id": "30f7ee4f",
   "metadata": {},
   "outputs": [
    {
     "name": "stderr",
     "output_type": "stream",
     "text": [
      "C:\\ProgramData\\Anaconda3\\lib\\site-packages\\seaborn\\_decorators.py:36: FutureWarning: Pass the following variable as a keyword arg: x. From version 0.12, the only valid positional argument will be `data`, and passing other arguments without an explicit keyword will result in an error or misinterpretation.\n",
      "  warnings.warn(\n"
     ]
    },
    {
     "data": {
      "text/plain": [
       "(array([0, 1]), [Text(0, 0, 'non-COPD'), Text(1, 0, 'COPD')])"
      ]
     },
     "execution_count": 34,
     "metadata": {},
     "output_type": "execute_result"
    },
    {
     "data": {
      "image/png": "[encoded data removed]",
      "text/plain": [
       "<Figure size 432x288 with 1 Axes>"
      ]
     },
     "metadata": {
      "needs_background": "light"
     },
     "output_type": "display_data"
    }
   ],
   "source": [
    "sns.countplot(diagnosis.disease)\n",
    "plt.xticks(rotation=90)"
   ]
  },
  {
   "cell_type": "markdown",
   "id": "8b4b63bc",
   "metadata": {},
   "source": [
    "#### We will try to extract Id of each processed audio file and then merge them with their respective class label so we can split files in to train and validation folder in stratified manner"
   ]
  },
  {
   "cell_type": "code",
   "execution_count": 35,
   "id": "4d6ed7a8",
   "metadata": {},
   "outputs": [],
   "source": [
    "def extractId(filename):\n",
    "    return filename.split('_')[0]"
   ]
  },
  {
   "cell_type": "code",
   "execution_count": 36,
   "id": "d4698de3",
   "metadata": {},
   "outputs": [
    {
     "data": {
      "text/html": [
       "<div>\n",
       "<style scoped>\n",
       "    .dataframe tbody tr th:only-of-type {\n",
       "        vertical-align: middle;\n",
       "    }\n",
       "\n",
       "    .dataframe tbody tr th {\n",
       "        vertical-align: top;\n",
       "    }\n",
       "\n",
       "    .dataframe thead th {\n",
       "        text-align: right;\n",
       "    }\n",
       "</style>\n",
       "<table border=\"1\" class=\"dataframe\">\n",
       "  <thead>\n",
       "    <tr style=\"text-align: right;\">\n",
       "      <th></th>\n",
       "      <th>patient_id</th>\n",
       "      <th>filename</th>\n",
       "    </tr>\n",
       "  </thead>\n",
       "  <tbody>\n",
       "    <tr>\n",
       "      <th>0</th>\n",
       "      <td>101</td>\n",
       "      <td>101_1b1_Al_sc_Meditron_0.wav</td>\n",
       "    </tr>\n",
       "    <tr>\n",
       "      <th>1</th>\n",
       "      <td>101</td>\n",
       "      <td>101_1b1_Al_sc_Meditron_1.wav</td>\n",
       "    </tr>\n",
       "    <tr>\n",
       "      <th>2</th>\n",
       "      <td>101</td>\n",
       "      <td>101_1b1_Al_sc_Meditron_10.wav</td>\n",
       "    </tr>\n",
       "    <tr>\n",
       "      <th>3</th>\n",
       "      <td>101</td>\n",
       "      <td>101_1b1_Al_sc_Meditron_11.wav</td>\n",
       "    </tr>\n",
       "    <tr>\n",
       "      <th>4</th>\n",
       "      <td>101</td>\n",
       "      <td>101_1b1_Al_sc_Meditron_2.wav</td>\n",
       "    </tr>\n",
       "  </tbody>\n",
       "</table>\n",
       "</div>"
      ],
      "text/plain": [
       "  patient_id                       filename\n",
       "0        101   101_1b1_Al_sc_Meditron_0.wav\n",
       "1        101   101_1b1_Al_sc_Meditron_1.wav\n",
       "2        101  101_1b1_Al_sc_Meditron_10.wav\n",
       "3        101  101_1b1_Al_sc_Meditron_11.wav\n",
       "4        101   101_1b1_Al_sc_Meditron_2.wav"
      ]
     },
     "execution_count": 36,
     "metadata": {},
     "output_type": "execute_result"
    }
   ],
   "source": [
    "path='processed_audio_files'\n",
    "length=len(os.listdir(path))\n",
    "index=range(length)\n",
    "i=0\n",
    "files_df=pd.DataFrame(index=index,columns=['patient_id','filename'])\n",
    "for f in os.listdir(path):\n",
    "    files_df.iloc[i]['patient_id']=extractId(f)\n",
    "    files_df.iloc[i]['filename']=f\n",
    "    i+=1\n",
    "files_df.head()"
   ]
  },
  {
   "cell_type": "code",
   "execution_count": 37,
   "id": "c6de9067",
   "metadata": {},
   "outputs": [],
   "source": [
    "files_df.patient_id=files_df.patient_id.astype('int64') # both pid's must be of same dtype for them to merge"
   ]
  },
  {
   "cell_type": "code",
   "execution_count": 38,
   "id": "e21bd12e",
   "metadata": {},
   "outputs": [
    {
     "data": {
      "text/html": [
       "<div>\n",
       "<style scoped>\n",
       "    .dataframe tbody tr th:only-of-type {\n",
       "        vertical-align: middle;\n",
       "    }\n",
       "\n",
       "    .dataframe tbody tr th {\n",
       "        vertical-align: top;\n",
       "    }\n",
       "\n",
       "    .dataframe thead th {\n",
       "        text-align: right;\n",
       "    }\n",
       "</style>\n",
       "<table border=\"1\" class=\"dataframe\">\n",
       "  <thead>\n",
       "    <tr style=\"text-align: right;\">\n",
       "      <th></th>\n",
       "      <th>patient_id</th>\n",
       "      <th>filename</th>\n",
       "      <th>disease</th>\n",
       "    </tr>\n",
       "  </thead>\n",
       "  <tbody>\n",
       "    <tr>\n",
       "      <th>0</th>\n",
       "      <td>101</td>\n",
       "      <td>101_1b1_Al_sc_Meditron_0.wav</td>\n",
       "      <td>non-COPD</td>\n",
       "    </tr>\n",
       "    <tr>\n",
       "      <th>1</th>\n",
       "      <td>101</td>\n",
       "      <td>101_1b1_Al_sc_Meditron_1.wav</td>\n",
       "      <td>non-COPD</td>\n",
       "    </tr>\n",
       "    <tr>\n",
       "      <th>2</th>\n",
       "      <td>101</td>\n",
       "      <td>101_1b1_Al_sc_Meditron_10.wav</td>\n",
       "      <td>non-COPD</td>\n",
       "    </tr>\n",
       "    <tr>\n",
       "      <th>3</th>\n",
       "      <td>101</td>\n",
       "      <td>101_1b1_Al_sc_Meditron_11.wav</td>\n",
       "      <td>non-COPD</td>\n",
       "    </tr>\n",
       "    <tr>\n",
       "      <th>4</th>\n",
       "      <td>101</td>\n",
       "      <td>101_1b1_Al_sc_Meditron_2.wav</td>\n",
       "      <td>non-COPD</td>\n",
       "    </tr>\n",
       "  </tbody>\n",
       "</table>\n",
       "</div>"
      ],
      "text/plain": [
       "   patient_id                       filename   disease\n",
       "0         101   101_1b1_Al_sc_Meditron_0.wav  non-COPD\n",
       "1         101   101_1b1_Al_sc_Meditron_1.wav  non-COPD\n",
       "2         101  101_1b1_Al_sc_Meditron_10.wav  non-COPD\n",
       "3         101  101_1b1_Al_sc_Meditron_11.wav  non-COPD\n",
       "4         101   101_1b1_Al_sc_Meditron_2.wav  non-COPD"
      ]
     },
     "execution_count": 38,
     "metadata": {},
     "output_type": "execute_result"
    }
   ],
   "source": [
    "data=pd.merge(files_df,diagnosis,on='patient_id')\n",
    "data.head()"
   ]
  },
  {
   "cell_type": "code",
   "execution_count": 3,
   "id": "42d0068a",
   "metadata": {},
   "outputs": [],
   "source": [
    "Xtrain,Xtest,ytrain,ytest=train_test_split(data,data.disease,stratify=data.disease,random_state=42,test_size=0.25)"
   ]
  },
  {
   "cell_type": "code",
   "execution_count": 40,
   "id": "575293fc",
   "metadata": {},
   "outputs": [
    {
     "data": {
      "text/plain": [
       "COPD        0.832979\n",
       "non-COPD    0.167021\n",
       "Name: disease, dtype: float64"
      ]
     },
     "execution_count": 40,
     "metadata": {},
     "output_type": "execute_result"
    }
   ],
   "source": [
    "Xtrain.disease.value_counts()/Xtrain.shape[0]"
   ]
  },
  {
   "cell_type": "code",
   "execution_count": 41,
   "id": "148cad99",
   "metadata": {},
   "outputs": [
    {
     "data": {
      "text/plain": [
       "COPD        0.833043\n",
       "non-COPD    0.166957\n",
       "Name: disease, dtype: float64"
      ]
     },
     "execution_count": 41,
     "metadata": {},
     "output_type": "execute_result"
    }
   ],
   "source": [
    "Xtest.disease.value_counts()/Xtest.shape[0]"
   ]
  },
  {
   "cell_type": "markdown",
   "id": "f48a086b",
   "metadata": {},
   "source": [
    "##### Percent of class labels in same in both train and test as we can see above\n",
    "##### We did this because this will help our model to learn and validate classes , it will not be like we are training only on COPD disease and there is no COPD in our validation "
   ]
  },
  {
   "cell_type": "markdown",
   "id": "9dac75bb",
   "metadata": {},
   "source": [
    "## Visualizing MFCCS"
   ]
  },
  {
   "cell_type": "code",
   "execution_count": 42,
   "id": "da77912a",
   "metadata": {},
   "outputs": [
    {
     "data": {
      "text/plain": [
       "[Text(0.5, 1.0, 'MFCC')]"
      ]
     },
     "execution_count": 42,
     "metadata": {},
     "output_type": "execute_result"
    },
    {
     "data": {
      "image/png": "[encoded data removed]",
      "text/plain": [
       "<Figure size 432x288 with 2 Axes>"
      ]
     },
     "metadata": {
      "needs_background": "light"
     },
     "output_type": "display_data"
    }
   ],
   "source": [
    "path='processed_audio_files/'\n",
    "\n",
    "file=path + Xtrain.iloc[193].filename \n",
    "sound,sample_rate=lb.load(file)\n",
    "\n",
    "#n_mfcc is the number of coefficients we want to extract\n",
    "mfccs = lb.feature.mfcc(y=sound, sr=sample_rate, n_mfcc=13)\n",
    "fig, ax = plt.subplots()\n",
    "img = librosa.display.specshow(mfccs, x_axis='time', ax=ax)\n",
    "fig.colorbar(img, ax=ax)\n",
    "ax.set(title='MFCC')"
   ]
  },
  {
   "cell_type": "markdown",
   "id": "c6481dc7",
   "metadata": {},
   "source": [
    "##### Here We are going to output train & test datasets so that we can use the filenames in another notebook where we will try other feature extraction methods inclusive of MFCC's and adopt the one or many based on performance."
   ]
  },
  {
   "cell_type": "code",
   "execution_count": 43,
   "id": "eb7a035c",
   "metadata": {},
   "outputs": [],
   "source": [
    "Xtrain.to_csv('train.csv')\n",
    "Xtest.to_csv('test.csv')"
   ]
  },
  {
   "cell_type": "code",
   "execution_count": 44,
   "id": "4aeefe19",
   "metadata": {},
   "outputs": [],
   "source": [
    "train=pd.read_csv('train.csv')\n",
    "test=pd.read_csv('test.csv')"
   ]
  },
  {
   "cell_type": "code",
   "execution_count": 45,
   "id": "55494db8",
   "metadata": {},
   "outputs": [
    {
     "data": {
      "text/html": [
       "<div>\n",
       "<style scoped>\n",
       "    .dataframe tbody tr th:only-of-type {\n",
       "        vertical-align: middle;\n",
       "    }\n",
       "\n",
       "    .dataframe tbody tr th {\n",
       "        vertical-align: top;\n",
       "    }\n",
       "\n",
       "    .dataframe thead th {\n",
       "        text-align: right;\n",
       "    }\n",
       "</style>\n",
       "<table border=\"1\" class=\"dataframe\">\n",
       "  <thead>\n",
       "    <tr style=\"text-align: right;\">\n",
       "      <th></th>\n",
       "      <th>Unnamed: 0</th>\n",
       "      <th>patient_id</th>\n",
       "      <th>filename</th>\n",
       "      <th>disease</th>\n",
       "    </tr>\n",
       "  </thead>\n",
       "  <tbody>\n",
       "    <tr>\n",
       "      <th>0</th>\n",
       "      <td>4549</td>\n",
       "      <td>178</td>\n",
       "      <td>178_1b2_Lr_mc_AKGC417L_4.wav</td>\n",
       "      <td>COPD</td>\n",
       "    </tr>\n",
       "    <tr>\n",
       "      <th>1</th>\n",
       "      <td>3858</td>\n",
       "      <td>170</td>\n",
       "      <td>170_1b3_Al_mc_AKGC417L_2.wav</td>\n",
       "      <td>COPD</td>\n",
       "    </tr>\n",
       "    <tr>\n",
       "      <th>2</th>\n",
       "      <td>120</td>\n",
       "      <td>106</td>\n",
       "      <td>106_2b1_Pr_mc_LittC2SE_6.wav</td>\n",
       "      <td>COPD</td>\n",
       "    </tr>\n",
       "    <tr>\n",
       "      <th>3</th>\n",
       "      <td>2072</td>\n",
       "      <td>140</td>\n",
       "      <td>140_2b2_Ll_mc_LittC2SE_2.wav</td>\n",
       "      <td>non-COPD</td>\n",
       "    </tr>\n",
       "    <tr>\n",
       "      <th>4</th>\n",
       "      <td>2369</td>\n",
       "      <td>147</td>\n",
       "      <td>147_2b3_Al_mc_AKGC417L_0.wav</td>\n",
       "      <td>COPD</td>\n",
       "    </tr>\n",
       "  </tbody>\n",
       "</table>\n",
       "</div>"
      ],
      "text/plain": [
       "   Unnamed: 0  patient_id                      filename   disease\n",
       "0        4549         178  178_1b2_Lr_mc_AKGC417L_4.wav      COPD\n",
       "1        3858         170  170_1b3_Al_mc_AKGC417L_2.wav      COPD\n",
       "2         120         106  106_2b1_Pr_mc_LittC2SE_6.wav      COPD\n",
       "3        2072         140  140_2b2_Ll_mc_LittC2SE_2.wav  non-COPD\n",
       "4        2369         147  147_2b3_Al_mc_AKGC417L_0.wav      COPD"
      ]
     },
     "execution_count": 45,
     "metadata": {},
     "output_type": "execute_result"
    }
   ],
   "source": [
    "train.head()"
   ]
  },
  {
   "cell_type": "code",
   "execution_count": 46,
   "id": "fd0c6655",
   "metadata": {},
   "outputs": [
    {
     "data": {
      "text/plain": [
       "0       non-COPD\n",
       "1           COPD\n",
       "2           COPD\n",
       "3           COPD\n",
       "4           COPD\n",
       "          ...   \n",
       "1720        COPD\n",
       "1721        COPD\n",
       "1722        COPD\n",
       "1723        COPD\n",
       "1724        COPD\n",
       "Name: disease, Length: 1725, dtype: object"
      ]
     },
     "execution_count": 46,
     "metadata": {},
     "output_type": "execute_result"
    }
   ],
   "source": [
    "ytrain=train.disease\n",
    "ytest=test.disease\n",
    "ytest"
   ]
  },
  {
   "cell_type": "markdown",
   "id": "76daa68d",
   "metadata": {},
   "source": [
    "#### As our class labels are of object data type, so we must first convert them to encoded values or intergers (categorical)"
   ]
  },
  {
   "cell_type": "code",
   "execution_count": 47,
   "id": "2eae10cb",
   "metadata": {},
   "outputs": [],
   "source": [
    "le=LabelEncoder()\n",
    "\n",
    "ytrain = le.fit_transform(ytrain)\n",
    "ytest = le.transform(ytest)"
   ]
  },
  {
   "cell_type": "markdown",
   "id": "25679c7e",
   "metadata": {},
   "source": [
    "### Feature Extraction\n",
    "##### We are going to use Librosa's feature extraction methods here\n",
    "\n",
    "##### Note:- We first tried to extract features 1-by-1 and then concatenated them into a single feature"
   ]
  },
  {
   "cell_type": "code",
   "execution_count": null,
   "id": "d2ab83f3",
   "metadata": {},
   "outputs": [],
   "source": [
    "# def getFeatures_mfcc(path):\n",
    "#     soundArr,sample_rate=lb.load(path)\n",
    "#     mfcc=lb.feature.mfcc(y=soundArr,sr=sample_rate)\n",
    "\n",
    "#     return mfcc"
   ]
  },
  {
   "cell_type": "code",
   "execution_count": null,
   "id": "ad566c8b",
   "metadata": {},
   "outputs": [],
   "source": [
    "# def getFeatures_cstft(path):\n",
    "#     soundArr,sample_rate=lb.load(path)\n",
    "#     cstft=lb.feature.chroma_stft(y=soundArr,sr=sample_rate)\n",
    "\n",
    "#     return cstft"
   ]
  },
  {
   "cell_type": "code",
   "execution_count": null,
   "id": "bd1f16ac",
   "metadata": {},
   "outputs": [],
   "source": [
    "# def getFeatures_mSpec(path):\n",
    "#     soundArr,sample_rate=lb.load(path)\n",
    "#     mSpec=lb.feature.melspectrogram(y=soundArr,sr=sample_rate)\n",
    "\n",
    "#     return mSpec"
   ]
  },
  {
   "cell_type": "code",
   "execution_count": 48,
   "id": "b3774069",
   "metadata": {},
   "outputs": [],
   "source": [
    "def getFeatures(path):\n",
    "    soundArr,sample_rate=lb.load(path)\n",
    "    mfcc=lb.feature.mfcc(y=soundArr,sr=sample_rate)\n",
    "    cstft=lb.feature.chroma_stft(y=soundArr,sr=sample_rate)\n",
    "    mSpec=lb.feature.melspectrogram(y=soundArr,sr=sample_rate)\n",
    "    feat_merge = np.concatenate((mfcc,cstft,mSpec), axis=0)\n",
    "    \n",
    "    return feat_merge"
   ]
  },
  {
   "cell_type": "code",
   "execution_count": 49,
   "id": "7375a263",
   "metadata": {},
   "outputs": [
    {
     "name": "stderr",
     "output_type": "stream",
     "text": [
      "C:\\ProgramData\\Anaconda3\\lib\\site-packages\\librosa\\util\\decorators.py:88: UserWarning: Trying to estimate tuning from empty frequency set.\n",
      "  return f(*args, **kwargs)\n"
     ]
    }
   ],
   "source": [
    "root='processed_audio_files/'\n",
    "merged=[]\n",
    "\n",
    "for idx,row in test.iterrows():\n",
    "    path=root + row['filename']\n",
    "    a=getFeatures(path)\n",
    "    merged.append(a)\n",
    "    \n",
    "    \n",
    "merged_test=np.array(merged)\n"
   ]
  },
  {
   "cell_type": "code",
   "execution_count": 50,
   "id": "783ab14f",
   "metadata": {},
   "outputs": [
    {
     "data": {
      "text/plain": [
       "(1725, 160, 259)"
      ]
     },
     "execution_count": 50,
     "metadata": {},
     "output_type": "execute_result"
    }
   ],
   "source": [
    "merged_test.shape"
   ]
  },
  {
   "cell_type": "code",
   "execution_count": 51,
   "id": "391de1b6",
   "metadata": {},
   "outputs": [],
   "source": [
    "re_merged_test= merged_test.reshape(-1,1725, 160, 259)"
   ]
  },
  {
   "cell_type": "code",
   "execution_count": null,
   "id": "381cbc4d",
   "metadata": {},
   "outputs": [],
   "source": [
    "root='processed_audio_files/'\n",
    "merged=[]\n",
    "\n",
    "for idx,row in train.iterrows():\n",
    "    path=root + row['filename']\n",
    "    a=getFeatures(path)\n",
    "    merged.append(a)\n",
    "    \n",
    "    \n",
    "merged_train=np.array(merged)\n"
   ]
  },
  {
   "cell_type": "code",
   "execution_count": null,
   "id": "328a8c1b",
   "metadata": {},
   "outputs": [],
   "source": [
    "merged_train.shape"
   ]
  },
  {
   "cell_type": "code",
   "execution_count": null,
   "id": "edcf1825",
   "metadata": {},
   "outputs": [],
   "source": [
    "re_merged_train= merged_train.reshape(-1,5173, 160, 259)"
   ]
  },
  {
   "cell_type": "code",
   "execution_count": 8,
   "id": "a9423c49",
   "metadata": {
    "scrolled": true
   },
   "outputs": [],
   "source": [
    "model = Sequential(name='jmd')\n",
    "filter_size = 2\n",
    "filter_size = 2\n",
    "pool_size = 2\n",
    "\n",
    "model.add(Conv2D(filters=16, kernel_size=filter_size, input_shape=(160,259,1), activation='relu'))\n",
    "model.add(MaxPooling2D(pool_size=pool_size))\n",
    "model.add(Dropout(0.2))\n",
    "\n",
    "model.add(Conv2D(filters=32, kernel_size=filter_size, activation='relu'))\n",
    "model.add(MaxPooling2D(pool_size=pool_size))\n",
    "model.add(Dropout(0.2))\n",
    "\n",
    "model.add(Conv2D(filters=64, kernel_size=filter_size, activation='relu'))\n",
    "model.add(MaxPooling2D(pool_size=pool_size))\n",
    "model.add(Dropout(0.2))\n",
    "\n",
    "model.add(Conv2D(filters=128, kernel_size=filter_size, activation='relu'))\n",
    "model.add(MaxPooling2D(pool_size=pool_size))\n",
    "model.add(Dropout(0.2))\n",
    "\n",
    "model.add(GlobalAveragePooling2D())\n",
    "\n",
    "model.add(Dense(1, activation='sigmoid'))\n"
   ]
  },
  {
   "cell_type": "code",
   "execution_count": 93,
   "id": "3acd2fa5",
   "metadata": {},
   "outputs": [
    {
     "name": "stdout",
     "output_type": "stream",
     "text": [
      "Model: \"jmd\"\n",
      "_________________________________________________________________\n",
      " Layer (type)                Output Shape              Param #   \n",
      "=================================================================\n",
      " conv2d_16 (Conv2D)          (None, 159, 258, 16)      80        \n",
      "                                                                 \n",
      " max_pooling2d_16 (MaxPoolin  (None, 79, 129, 16)      0         \n",
      " g2D)                                                            \n",
      "                                                                 \n",
      " dropout_16 (Dropout)        (None, 79, 129, 16)       0         \n",
      "                                                                 \n",
      " conv2d_17 (Conv2D)          (None, 78, 128, 32)       2080      \n",
      "                                                                 \n",
      " max_pooling2d_17 (MaxPoolin  (None, 39, 64, 32)       0         \n",
      " g2D)                                                            \n",
      "                                                                 \n",
      " dropout_17 (Dropout)        (None, 39, 64, 32)        0         \n",
      "                                                                 \n",
      " conv2d_18 (Conv2D)          (None, 38, 63, 64)        8256      \n",
      "                                                                 \n",
      " max_pooling2d_18 (MaxPoolin  (None, 19, 31, 64)       0         \n",
      " g2D)                                                            \n",
      "                                                                 \n",
      " dropout_18 (Dropout)        (None, 19, 31, 64)        0         \n",
      "                                                                 \n",
      " conv2d_19 (Conv2D)          (None, 18, 30, 128)       32896     \n",
      "                                                                 \n",
      " max_pooling2d_19 (MaxPoolin  (None, 9, 15, 128)       0         \n",
      " g2D)                                                            \n",
      "                                                                 \n",
      " dropout_19 (Dropout)        (None, 9, 15, 128)        0         \n",
      "                                                                 \n",
      " global_average_pooling2d_4   (None, 128)              0         \n",
      " (GlobalAveragePooling2D)                                        \n",
      "                                                                 \n",
      " dense_4 (Dense)             (None, 1)                 129       \n",
      "                                                                 \n",
      "=================================================================\n",
      "Total params: 43,441\n",
      "Trainable params: 43,441\n",
      "Non-trainable params: 0\n",
      "_________________________________________________________________\n"
     ]
    }
   ],
   "source": [
    "model.summary()"
   ]
  },
  {
   "cell_type": "code",
   "execution_count": null,
   "id": "ab257b79",
   "metadata": {},
   "outputs": [],
   "source": [
    "keras.utils.plot_model(model, \"model.png\", show_shapes=True)"
   ]
  },
  {
   "cell_type": "markdown",
   "id": "10818cd0",
   "metadata": {},
   "source": [
    "# Compiling the Model"
   ]
  },
  {
   "cell_type": "code",
   "execution_count": 108,
   "id": "0f63c162",
   "metadata": {},
   "outputs": [],
   "source": [
    "my_callbacks = [\n",
    "    \n",
    "    #Stop training when a monitored metric has stopped improving.\n",
    "    #patience: Number of epochs with no improvement after which training will be stopped.\n",
    "    tf.keras.callbacks.EarlyStopping(patience=5),\n",
    "    \n",
    "    #Reduce learning rate when a metric has stopped improving.\n",
    "    #monitor: quantity to be monitored.\n",
    "    #factor: factor by which the learning rate will be reduced. new_lr = lr * factor.\n",
    "    tf.keras.callbacks.ReduceLROnPlateau(monitor='val_loss', factor=0.1,\n",
    "                              patience=3, min_lr=0.00001,mode='min')\n",
    "]"
   ]
  },
  {
   "cell_type": "code",
   "execution_count": 117,
   "id": "8385d6ba",
   "metadata": {},
   "outputs": [],
   "source": [
    "# Hyperparamter tuning done with nadam as well\n",
    "model.compile(loss='binary_crossentropy', optimizer='RMSprop', metrics=['accuracy'])\n",
    "K.set_value(model.optimizer.learning_rate, 0.001)"
   ]
  },
  {
   "cell_type": "markdown",
   "id": "0b2a2346",
   "metadata": {},
   "source": [
    "# Training model"
   ]
  },
  {
   "cell_type": "code",
   "execution_count": 103,
   "id": "54b98dc1",
   "metadata": {},
   "outputs": [],
   "source": [
    "history=model.fit(merged_train,ytrain,validation_data=(merged_test,ytest),epochs=100,verbose=0,callbacks=my_callbacks)"
   ]
  },
  {
   "cell_type": "code",
   "execution_count": 104,
   "id": "54381fea",
   "metadata": {},
   "outputs": [
    {
     "data": {
      "image/png": "[encoded data removed]",
      "text/plain": [
       "<Figure size 432x288 with 1 Axes>"
      ]
     },
     "metadata": {
      "needs_background": "light"
     },
     "output_type": "display_data"
    },
    {
     "name": "stdout",
     "output_type": "stream",
     "text": [
      "54/54 [==============================] - 7s 123ms/step - loss: 0.1154 - accuracy: 0.9536\n"
     ]
    },
    {
     "data": {
      "text/plain": [
       "[0.1153881847858429, 0.9536231756210327]"
      ]
     },
     "execution_count": 104,
     "metadata": {},
     "output_type": "execute_result"
    }
   ],
   "source": [
    "pd.DataFrame(history.history).plot()\n",
    "plt.grid(True)\n",
    "plt.gca().set_ylim(-0.1,1.1)\n",
    "plt.show()\n",
    "\n",
    "model.evaluate(merged_test,ytest) "
   ]
  },
  {
   "cell_type": "markdown",
   "id": "664f2fc9",
   "metadata": {},
   "source": [
    "# Cross Validation:"
   ]
  },
  {
   "cell_type": "code",
   "execution_count": 116,
   "id": "f4eaa031",
   "metadata": {},
   "outputs": [],
   "source": [
    "def fit_and_evaluate(t_x, val_x, t_y, val_y, EPOCHS=20, BATCH_SIZE=128):\n",
    "    results = model.fit(merged_train, ytrain, epochs=EPOCHS, batch_size=BATCH_SIZE, callbacks=my_callbacks, \n",
    "              verbose=1, validation_split=0.1)  \n",
    "    print(\"Val Score: \", model.evaluate(merged_test, ytest))\n",
    "    return resultsv"
   ]
  },
  {
   "cell_type": "code",
   "execution_count": 118,
   "id": "952ceec7",
   "metadata": {},
   "outputs": [
    {
     "name": "stdout",
     "output_type": "stream",
     "text": [
      "Training on Fold:  1\n",
      "Epoch 1/10\n",
      "37/37 [==============================] - 101s 3s/step - loss: 0.1275 - accuracy: 0.9506 - val_loss: 0.0921 - val_accuracy: 0.9575 - lr: 0.0010\n",
      "Epoch 2/10\n",
      "37/37 [==============================] - 96s 3s/step - loss: 0.1001 - accuracy: 0.9562 - val_loss: 0.1651 - val_accuracy: 0.9266 - lr: 0.0010\n",
      "Epoch 3/10\n",
      "37/37 [==============================] - 98s 3s/step - loss: 0.1005 - accuracy: 0.9588 - val_loss: 0.1182 - val_accuracy: 0.9402 - lr: 0.0010\n",
      "Epoch 4/10\n",
      "37/37 [==============================] - 92s 2s/step - loss: 0.0996 - accuracy: 0.9603 - val_loss: 0.1103 - val_accuracy: 0.9517 - lr: 0.0010\n",
      "Epoch 5/10\n",
      "37/37 [==============================] - 89s 2s/step - loss: 0.0921 - accuracy: 0.9635 - val_loss: 0.0926 - val_accuracy: 0.9595 - lr: 1.0000e-04\n",
      "Epoch 6/10\n",
      "37/37 [==============================] - 91s 2s/step - loss: 0.0925 - accuracy: 0.9592 - val_loss: 0.0901 - val_accuracy: 0.9614 - lr: 1.0000e-04\n",
      "Epoch 7/10\n",
      "37/37 [==============================] - 96s 3s/step - loss: 0.0864 - accuracy: 0.9663 - val_loss: 0.0895 - val_accuracy: 0.9614 - lr: 1.0000e-04\n",
      "Epoch 8/10\n",
      "37/37 [==============================] - 102s 3s/step - loss: 0.0890 - accuracy: 0.9652 - val_loss: 0.0878 - val_accuracy: 0.9633 - lr: 1.0000e-04\n",
      "Epoch 9/10\n",
      "37/37 [==============================] - 93s 3s/step - loss: 0.0855 - accuracy: 0.9635 - val_loss: 0.0868 - val_accuracy: 0.9633 - lr: 1.0000e-04\n",
      "Epoch 10/10\n",
      "37/37 [==============================] - 95s 3s/step - loss: 0.0844 - accuracy: 0.9667 - val_loss: 0.0868 - val_accuracy: 0.9633 - lr: 1.0000e-04\n",
      "54/54 [==============================] - 6s 116ms/step - loss: 0.1104 - accuracy: 0.9583\n",
      "Val Score:  [0.11039846390485764, 0.9582608938217163]\n",
      "====================================================================================\n",
      "\n",
      "\n",
      "Training on Fold:  2\n",
      "Epoch 1/10\n",
      "37/37 [==============================] - 91s 2s/step - loss: 0.0881 - accuracy: 0.9641 - val_loss: 0.0864 - val_accuracy: 0.9633 - lr: 1.0000e-04\n",
      "Epoch 2/10\n",
      "37/37 [==============================] - 91s 2s/step - loss: 0.0885 - accuracy: 0.9656 - val_loss: 0.0884 - val_accuracy: 0.9633 - lr: 1.0000e-04\n",
      "Epoch 3/10\n",
      "37/37 [==============================] - 90s 2s/step - loss: 0.0842 - accuracy: 0.9624 - val_loss: 0.0867 - val_accuracy: 0.9633 - lr: 1.0000e-04\n",
      "Epoch 4/10\n",
      "37/37 [==============================] - 91s 2s/step - loss: 0.0848 - accuracy: 0.9639 - val_loss: 0.0858 - val_accuracy: 0.9653 - lr: 1.0000e-04\n",
      "Epoch 5/10\n",
      "37/37 [==============================] - 88s 2s/step - loss: 0.0894 - accuracy: 0.9620 - val_loss: 0.0858 - val_accuracy: 0.9633 - lr: 1.0000e-04\n",
      "Epoch 6/10\n",
      "37/37 [==============================] - 89s 2s/step - loss: 0.0825 - accuracy: 0.9663 - val_loss: 0.0892 - val_accuracy: 0.9595 - lr: 1.0000e-04\n",
      "Epoch 7/10\n",
      "37/37 [==============================] - 97s 3s/step - loss: 0.0848 - accuracy: 0.9646 - val_loss: 0.0854 - val_accuracy: 0.9633 - lr: 1.0000e-04\n",
      "Epoch 8/10\n",
      "37/37 [==============================] - 101s 3s/step - loss: 0.0849 - accuracy: 0.9643 - val_loss: 0.0871 - val_accuracy: 0.9633 - lr: 1.0000e-04\n",
      "Epoch 9/10\n",
      "37/37 [==============================] - 98s 3s/step - loss: 0.0848 - accuracy: 0.9658 - val_loss: 0.0862 - val_accuracy: 0.9614 - lr: 1.0000e-04\n",
      "Epoch 10/10\n",
      "37/37 [==============================] - 107s 3s/step - loss: 0.0873 - accuracy: 0.9637 - val_loss: 0.0857 - val_accuracy: 0.9633 - lr: 1.0000e-04\n",
      "54/54 [==============================] - 7s 138ms/step - loss: 0.1091 - accuracy: 0.9600\n",
      "Val Score:  [0.1091020256280899, 0.9599999785423279]\n",
      "====================================================================================\n",
      "\n",
      "\n",
      "Training on Fold:  3\n",
      "Epoch 1/10\n",
      "37/37 [==============================] - 101s 3s/step - loss: 0.0852 - accuracy: 0.9635 - val_loss: 0.0855 - val_accuracy: 0.9633 - lr: 1.0000e-05\n",
      "Epoch 2/10\n",
      "37/37 [==============================] - 99s 3s/step - loss: 0.0868 - accuracy: 0.9641 - val_loss: 0.0858 - val_accuracy: 0.9633 - lr: 1.0000e-05\n",
      "Epoch 3/10\n",
      "37/37 [==============================] - 99s 3s/step - loss: 0.0830 - accuracy: 0.9656 - val_loss: 0.0855 - val_accuracy: 0.9633 - lr: 1.0000e-05\n",
      "Epoch 4/10\n",
      "37/37 [==============================] - 95s 3s/step - loss: 0.0875 - accuracy: 0.9661 - val_loss: 0.0848 - val_accuracy: 0.9633 - lr: 1.0000e-05\n",
      "Epoch 5/10\n",
      "37/37 [==============================] - 117s 3s/step - loss: 0.0828 - accuracy: 0.9648 - val_loss: 0.0850 - val_accuracy: 0.9633 - lr: 1.0000e-05\n",
      "Epoch 6/10\n",
      "37/37 [==============================] - 98s 3s/step - loss: 0.0824 - accuracy: 0.9652 - val_loss: 0.0847 - val_accuracy: 0.9653 - lr: 1.0000e-05\n",
      "Epoch 7/10\n",
      "37/37 [==============================] - 92s 2s/step - loss: 0.0828 - accuracy: 0.9658 - val_loss: 0.0849 - val_accuracy: 0.9633 - lr: 1.0000e-05\n",
      "Epoch 8/10\n",
      "37/37 [==============================] - 94s 3s/step - loss: 0.0851 - accuracy: 0.9658 - val_loss: 0.0852 - val_accuracy: 0.9633 - lr: 1.0000e-05\n",
      "Epoch 9/10\n",
      "37/37 [==============================] - 94s 3s/step - loss: 0.0846 - accuracy: 0.9635 - val_loss: 0.0851 - val_accuracy: 0.9614 - lr: 1.0000e-05\n",
      "Epoch 10/10\n",
      "37/37 [==============================] - 97s 3s/step - loss: 0.0863 - accuracy: 0.9676 - val_loss: 0.0847 - val_accuracy: 0.9633 - lr: 1.0000e-05\n",
      "54/54 [==============================] - 6s 106ms/step - loss: 0.1090 - accuracy: 0.9577\n",
      "Val Score:  [0.1089666485786438, 0.9576811790466309]\n",
      "====================================================================================\n",
      "\n",
      "\n"
     ]
    }
   ],
   "source": [
    "n_folds=3\n",
    "epochs=10\n",
    "batch_size=128\n",
    "\n",
    "#save the model history in a list after fitting so that we can plot later\n",
    "model_history = [] \n",
    "\n",
    "for i in range(n_folds):\n",
    "    print(\"Training on Fold: \",i+1)\n",
    "    t_x, val_x, t_y, val_y = train_test_split(merged_train, ytrain, test_size=0.1, \n",
    "                                               random_state = np.random.randint(1,1000, 1)[0])\n",
    "    model_history.append(fit_and_evaluate(t_x, val_x, t_y, val_y, epochs, batch_size))\n",
    "    print(\"=======\"*12, end=\"\\n\\n\\n\")"
   ]
  },
  {
   "cell_type": "markdown",
   "id": "908d9753",
   "metadata": {},
   "source": [
    "# Evaluating Model"
   ]
  },
  {
   "cell_type": "code",
   "execution_count": 128,
   "id": "eb4196d3",
   "metadata": {},
   "outputs": [
    {
     "data": {
      "image/png": "[encoded data removed]",
      "text/plain": [
       "<Figure size 432x288 with 1 Axes>"
      ]
     },
     "metadata": {
      "needs_background": "light"
     },
     "output_type": "display_data"
    }
   ],
   "source": [
    "plt.title('Train Accuracy vs Val Accuracy')\n",
    "plt.plot(model_history[0].history['accuracy'], label='Train Accuracy Fold 1', color='black')\n",
    "plt.plot(model_history[0].history['val_accuracy'], label='Val Accuracy Fold 1', color='black', linestyle = \"dashdot\")\n",
    "plt.plot(model_history[1].history['accuracy'], label='Train Accuracy Fold 2', color='red', )\n",
    "plt.plot(model_history[1].history['val_accuracy'], label='Val Accuracy Fold 2', color='red', linestyle = \"dashdot\")\n",
    "plt.plot(model_history[2].history['accuracy'], label='Train Accuracy Fold 3', color='green', )\n",
    "plt.plot(model_history[2].history['val_accuracy'], label='Val Accuracy Fold 3', color='green', linestyle = \"dashdot\")\n",
    "\n",
    "plt.yticks([0.910, 0.920, 0.930,0.940,0.950,0.960, 0.970]) \n",
    "plt.legend()\n",
    "plt.show()"
   ]
  },
  {
   "cell_type": "code",
   "execution_count": 5,
   "id": "14b8bc68",
   "metadata": {},
   "outputs": [],
   "source": [
    "\n",
    "y_pred = model.predict(merged_test)\n",
    "conf = sklearn.metrics.confusion_matrix(ytest, np.rint(y_pred))"
   ]
  },
  {
   "cell_type": "code",
   "execution_count": 126,
   "id": "196f2daf",
   "metadata": {},
   "outputs": [
    {
     "data": {
      "text/plain": [
       "Text(91.68, 0.5, 'Actual label')"
      ]
     },
     "execution_count": 126,
     "metadata": {},
     "output_type": "execute_result"
    },
    {
     "data": {
      "image/png": "[encoded data removed]",
      "text/plain": [
       "<Figure size 432x288 with 1 Axes>"
      ]
     },
     "metadata": {
      "needs_background": "light"
     },
     "output_type": "display_data"
    }
   ],
   "source": [
    "class_labels = ['COPD','Non-COPD']\n",
    "\n",
    "sns.heatmap(conf, square=True, annot=True, fmt='d', cbar=False, cmap='YlGn',\n",
    "             xticklabels=class_labels,\n",
    "             yticklabels=class_labels)\n",
    "\n",
    "# plt.figure(figsize=(5,3))\n",
    "# sns.heatmap(conf, annot=True,cmap=\"YlGn\",fmt='g')\n",
    "# plt.show()\n",
    "\n",
    "plt.xlabel('Predicted label')\n",
    "plt.ylabel('Actual label')"
   ]
  },
  {
   "cell_type": "code",
   "execution_count": 127,
   "id": "bf9edc4b",
   "metadata": {},
   "outputs": [
    {
     "name": "stdout",
     "output_type": "stream",
     "text": [
      "Accuracy from confusion matrix is  0.9576811594202899\n",
      "Precision:  0.9762569832402235\n",
      "Recall:  0.9728601252609603\n",
      "F1_score:  0.9745555942837225\n"
     ]
    }
   ],
   "source": [
    "#Accuracy from confusion matrix\n",
    "TP= conf[1,1] #True positive\n",
    "TN= conf[0,0] #True negative\n",
    "FP= conf[0,1] #False positive\n",
    "FN= conf[1,0] #False negative\n",
    "\n",
    "precision = TN/(TN+FN)\n",
    "recall = TN/(TN+FP)\n",
    "f1_score = 2*precision*recall/(precision + recall)\n",
    "Total=len(ytest)\n",
    "\n",
    "print(\"Accuracy from confusion matrix is \", (TN+TP)/Total)\n",
    "print(\"Precision: \",precision)\n",
    "print(\"Recall: \",recall)\n",
    "print(\"F1_score: \",f1_score)"
   ]
  }
 ],
 "metadata": {
  "kernelspec": {
   "display_name": "Python 3",
   "language": "python",
   "name": "python3"
  },
  "language_info": {
   "codemirror_mode": {
    "name": "ipython",
    "version": 3
   },
   "file_extension": ".py",
   "mimetype": "text/x-python",
   "name": "python",
   "nbconvert_exporter": "python",
   "pygments_lexer": "ipython3",
   "version": "3.8.8"
  }
 },
 "nbformat": 4,
 "nbformat_minor": 5
}
